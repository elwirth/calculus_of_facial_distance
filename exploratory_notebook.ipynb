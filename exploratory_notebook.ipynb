{
 "cells": [
  {
   "cell_type": "code",
   "execution_count": 1,
   "id": "47a219c5",
   "metadata": {},
   "outputs": [],
   "source": [
    "import numpy as np\n",
    "import sys\n",
    "from pathlib import Path\n",
    "\n",
    "# access the code\n",
    "sys.path.append((str(Path.cwd() / \"src\")))\n",
    "from polytope import Polytope\n",
    "from plotting_utils import save_plot_and_data_simple, plot_facial_distances_smooth"
   ]
  },
  {
   "cell_type": "code",
   "execution_count": 2,
   "id": "1ac7cd37",
   "metadata": {},
   "outputs": [
    {
     "name": "stdout",
     "output_type": "stream",
     "text": [
      "Saved plot to results/boolean_hypercube.png and data to results/boolean_hypercube.txt\n"
     ]
    }
   ],
   "source": [
    "vertices = np.array([[0, 1, 1, 0],\n",
    "                    [0, 0, 1, 2]])\n",
    "vertices = vertices.astype(np.float32)\n",
    "poly = Polytope(vertices)\n",
    "\n",
    "y = np.array([0, 1])\n",
    "grid, dists = poly.vertex_distance_grid(y, step=0.5, epsilon=1e-4, tol=1e-5, parallel=True, num_cores=10)\n",
    "fig = plot_facial_distances_smooth(grid, dists, y)\n",
    "save_plot_and_data_simple(fig, vertices, y, name=\"boolean_hypercube\")"
   ]
  },
  {
   "cell_type": "code",
   "execution_count": 3,
   "id": "ab0218cb",
   "metadata": {},
   "outputs": [],
   "source": [
    "# 23s 0.1\n",
    "# 3m 15s 0.05\n",
    "# 6s 0.1 10 cores\n",
    "# 41s 0.5 10 cores, eps 1e-5 tol 1e-7\n",
    "# 41s 0.01 10 cores eps 1e-4 tol 1e-5"
   ]
  },
  {
   "cell_type": "code",
   "execution_count": 4,
   "id": "67cb5ef3",
   "metadata": {},
   "outputs": [
    {
     "data": {
      "text/plain": [
       "[[3]]"
      ]
     },
     "execution_count": 4,
     "metadata": {},
     "output_type": "execute_result"
    }
   ],
   "source": [
    "# membership oracle\n",
    "vertices = np.array([[-1, -1, 1, 1],\n",
    "                     [-1, 1, -1, 1]])\n",
    "P = Polytope(vertices)\n",
    "point = np.array([1, 1])\n",
    "P.membership_oracle(point)\n",
    "P.support_set_oracle(point)\n"
   ]
  },
  {
   "cell_type": "code",
   "execution_count": 5,
   "id": "b41198fa",
   "metadata": {},
   "outputs": [
    {
     "name": "stdout",
     "output_type": "stream",
     "text": [
      "Support sets for x: [[0, 1, 3], [0, 2, 3], [0, 1, 2, 3]]\n",
      "Gamma feasible: True\n"
     ]
    }
   ],
   "source": [
    "# Define a simple 2D square polytope\n",
    "vertices = np.array([[0, 1, 1, 0],\n",
    "                     [0, 0, 1, 1]])\n",
    "poly = Polytope(vertices)\n",
    "\n",
    "# Pick x and y in the polytope\n",
    "x = np.array([0.2, 0.3])\n",
    "y = np.array([0.8, 0.7])\n",
    "\n",
    "# Find a support set for x\n",
    "support_sets = poly.support_set_oracle(x)\n",
    "print(\"Support sets for x:\", support_sets)\n",
    "\n",
    "# Pick the first support set\n",
    "S_indices = support_sets[0]\n",
    "\n",
    "# Test gamma_feasible with gamma = 1\n",
    "feasible, res = poly.gamma_feasible(x, y, S_indices, gamma=0.59999999)\n",
    "print(\"Gamma feasible:\", feasible)"
   ]
  },
  {
   "cell_type": "code",
   "execution_count": 6,
   "id": "4bf0cd3f",
   "metadata": {},
   "outputs": [],
   "source": [
    "vertices = np.array([\n",
    "    [1, 2, 3, 4],   # first vertex\n",
    "    [0, 0, 0, 5],   # second vertex\n",
    "    [1, 0, 0, 6]    # third vertex\n",
    "])"
   ]
  },
  {
   "cell_type": "code",
   "execution_count": 7,
   "id": "a22f2c39",
   "metadata": {},
   "outputs": [],
   "source": [
    "_, n = vertices.shape"
   ]
  },
  {
   "cell_type": "code",
   "execution_count": 8,
   "id": "66688061",
   "metadata": {},
   "outputs": [],
   "source": [
    "\n",
    "from itertools import combinations\n",
    "a = combinations(range(n), 2)"
   ]
  },
  {
   "cell_type": "code",
   "execution_count": 9,
   "id": "a980b808",
   "metadata": {},
   "outputs": [
    {
     "name": "stdout",
     "output_type": "stream",
     "text": [
      "vertices\n",
      "[[1 2 3 4]\n",
      " [0 0 0 5]\n",
      " [1 0 0 6]]\n",
      "indices:  [0, 1, 2]\n",
      "[[1 2 3]\n",
      " [0 0 0]\n",
      " [1 0 0]]\n",
      "indices:  [0, 1, 3]\n",
      "[[1 2 4]\n",
      " [0 0 5]\n",
      " [1 0 6]]\n",
      "indices:  [0, 2, 3]\n",
      "[[1 3 4]\n",
      " [0 0 5]\n",
      " [1 0 6]]\n",
      "indices:  [1, 2, 3]\n",
      "[[2 3 4]\n",
      " [0 0 5]\n",
      " [0 0 6]]\n"
     ]
    }
   ],
   "source": [
    "print(\"vertices\")\n",
    "print(vertices)\n",
    "for idx in combinations(range(n), 3):\n",
    "    indices = list(idx)\n",
    "    print(\"indices: \", indices)\n",
    "    print(vertices[:, indices])"
   ]
  },
  {
   "cell_type": "code",
   "execution_count": 10,
   "id": "b22cf197",
   "metadata": {},
   "outputs": [
    {
     "data": {
      "text/plain": [
       "[[], []]"
      ]
     },
     "execution_count": 10,
     "metadata": {},
     "output_type": "execute_result"
    }
   ],
   "source": [
    "a = []\n",
    "b =[]\n",
    "\n",
    "a.append(b)\n",
    "a.append(b)\n",
    "a"
   ]
  },
  {
   "cell_type": "code",
   "execution_count": null,
   "id": "fb66412b",
   "metadata": {},
   "outputs": [],
   "source": []
  }
 ],
 "metadata": {
  "kernelspec": {
   "display_name": "venv_calc_of_fd",
   "language": "python",
   "name": "python3"
  },
  "language_info": {
   "codemirror_mode": {
    "name": "ipython",
    "version": 3
   },
   "file_extension": ".py",
   "mimetype": "text/x-python",
   "name": "python",
   "nbconvert_exporter": "python",
   "pygments_lexer": "ipython3",
   "version": "3.12.4"
  }
 },
 "nbformat": 4,
 "nbformat_minor": 5
}
