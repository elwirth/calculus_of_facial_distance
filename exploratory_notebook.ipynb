{
 "cells": [
  {
   "cell_type": "code",
   "execution_count": 1,
   "id": "47a219c5",
   "metadata": {},
   "outputs": [],
   "source": [
    "import numpy as np\n",
    "import sys\n",
    "from pathlib import Path\n",
    "\n",
    "# access the code\n",
    "sys.path.append((str(Path.cwd() / \"src\")))\n",
    "from polytope import Polytope"
   ]
  },
  {
   "cell_type": "code",
   "execution_count": null,
   "id": "67cb5ef3",
   "metadata": {},
   "outputs": [
    {
     "data": {
      "text/plain": [
       "2.0000000999971235"
      ]
     },
     "execution_count": 14,
     "metadata": {},
     "output_type": "execute_result"
    }
   ],
   "source": [
    "# membership oracle\n",
    "vertices = np.array([[-1, -1, 1, 1],\n",
    "                     [-1, 1, -1, 1]])\n",
    "P = Polytope(vertices)\n",
    "point = np.array([1, 1])\n",
    "P.membership_oracle(point)\n",
    "P.support_set_oracle(point)\n",
    "point = np.array([1, 1])\n",
    "direction = np.array([-1, 0])\n",
    "P.max_step_oracle(point, direction)"
   ]
  },
  {
   "cell_type": "code",
   "execution_count": 3,
   "id": "4bf0cd3f",
   "metadata": {},
   "outputs": [],
   "source": [
    "vertices = np.array([\n",
    "    [1, 2, 3, 4],   # first vertex\n",
    "    [0, 0, 0, 5],   # second vertex\n",
    "    [1, 0, 0, 6]    # third vertex\n",
    "])"
   ]
  },
  {
   "cell_type": "code",
   "execution_count": 4,
   "id": "a22f2c39",
   "metadata": {},
   "outputs": [],
   "source": [
    "_, n = vertices.shape"
   ]
  },
  {
   "cell_type": "code",
   "execution_count": 5,
   "id": "66688061",
   "metadata": {},
   "outputs": [],
   "source": [
    "\n",
    "from itertools import combinations\n",
    "a = combinations(range(n), 2)"
   ]
  },
  {
   "cell_type": "code",
   "execution_count": 6,
   "id": "a980b808",
   "metadata": {},
   "outputs": [
    {
     "name": "stdout",
     "output_type": "stream",
     "text": [
      "vertices\n",
      "[[1 2 3 4]\n",
      " [0 0 0 5]\n",
      " [1 0 0 6]]\n",
      "indices:  [0, 1, 2]\n",
      "[[1 2 3]\n",
      " [0 0 0]\n",
      " [1 0 0]]\n",
      "indices:  [0, 1, 3]\n",
      "[[1 2 4]\n",
      " [0 0 5]\n",
      " [1 0 6]]\n",
      "indices:  [0, 2, 3]\n",
      "[[1 3 4]\n",
      " [0 0 5]\n",
      " [1 0 6]]\n",
      "indices:  [1, 2, 3]\n",
      "[[2 3 4]\n",
      " [0 0 5]\n",
      " [0 0 6]]\n"
     ]
    }
   ],
   "source": [
    "print(\"vertices\")\n",
    "print(vertices)\n",
    "for idx in combinations(range(n), 3):\n",
    "    indices = list(idx)\n",
    "    print(\"indices: \", indices)\n",
    "    print(vertices[:, indices])"
   ]
  },
  {
   "cell_type": "code",
   "execution_count": 7,
   "id": "b22cf197",
   "metadata": {},
   "outputs": [
    {
     "data": {
      "text/plain": [
       "[[], []]"
      ]
     },
     "execution_count": 7,
     "metadata": {},
     "output_type": "execute_result"
    }
   ],
   "source": [
    "a = []\n",
    "b =[]\n",
    "\n",
    "a.append(b)\n",
    "a.append(b)\n",
    "a"
   ]
  },
  {
   "cell_type": "code",
   "execution_count": null,
   "id": "fb66412b",
   "metadata": {},
   "outputs": [],
   "source": []
  }
 ],
 "metadata": {
  "kernelspec": {
   "display_name": "venv_calc_of_fd",
   "language": "python",
   "name": "python3"
  },
  "language_info": {
   "codemirror_mode": {
    "name": "ipython",
    "version": 3
   },
   "file_extension": ".py",
   "mimetype": "text/x-python",
   "name": "python",
   "nbconvert_exporter": "python",
   "pygments_lexer": "ipython3",
   "version": "3.12.4"
  }
 },
 "nbformat": 4,
 "nbformat_minor": 5
}
